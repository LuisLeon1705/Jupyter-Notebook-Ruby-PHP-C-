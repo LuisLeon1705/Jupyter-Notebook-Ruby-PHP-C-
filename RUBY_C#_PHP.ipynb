{
 "cells": [
  {
   "cell_type": "markdown",
   "id": "11ef2a18-74a6-45d7-b15f-686a3ce97dca",
   "metadata": {},
   "source": [
    "# Introduccion en Notebook a, Ruby,PHP y C#"
   ]
  },
  {
   "cell_type": "markdown",
   "id": "edaa53bd-3b0c-452f-8c79-2c700d2ef1ec",
   "metadata": {},
   "source": [
    "# 1. Ruby\n",
    "\n",
    "Ruby es un lenguaje de programación dinámico, interpretado y enfocado en la simplicidad y productividad. Es conocido por su sintaxis elegante y natural (casi como leer inglés)."
   ]
  },
  {
   "cell_type": "markdown",
   "id": "7c9159a6-fd95-4310-affe-7ce76103dc5c",
   "metadata": {},
   "source": [
    "## Variables y Tipos de Datos\n",
    "\n",
    "Ruby es de tipado dinámico. No necesitas declarar el tipo de una variable. Se usa `snake_case` por convención para los nombres de variables."
   ]
  },
  {
   "cell_type": "code",
   "execution_count": null,
   "id": "4f12215f-f9b8-4169-a9e6-e8012cd6bf61",
   "metadata": {},
   "outputs": [],
   "source": [
    "# Los comentarios se hacen con '#'\n",
    "mi_variable_string = \"Hola, mundo!\"\n",
    "mi_numero_entero = 42\n",
    "mi_numero_flotante = 3.14\n",
    "es_verdadero = true # Boolean\n",
    "no_es_nada = nil   # Representa la ausencia de valor (null)\n",
    "\n",
    "# Para imprimir en la consola (salida de la celda)\n",
    "puts mi_variable_string\n",
    "puts mi_numero_entero"
   ]
  },
  {
   "cell_type": "markdown",
   "id": "9f330ffc-7b12-4721-8e27-542ef03477b4",
   "metadata": {},
   "source": [
    "## Listas (Arrays)\n",
    "\n",
    "Los Arrays en Ruby son colecciones ordenadas de objetos, y pueden contener tipos de datos mixtos."
   ]
  },
  {
   "cell_type": "code",
   "execution_count": null,
   "id": "a2407924-8177-4e07-b519-66679db3ab8b",
   "metadata": {},
   "outputs": [],
   "source": [
    "mi_array = [1, \"dos\", 3.0, true]\n",
    "\n",
    "# Acceder a un elemento (indexado desde 0)\n",
    "puts mi_array[1] # Imprime \"dos\"\n",
    "\n",
    "# Añadir un elemento al final\n",
    "mi_array.push(\"nuevo elemento\")\n",
    "# O usar el operador <<\n",
    "mi_array << \"otro más\"\n",
    "\n",
    "puts mi_array.inspect # .inspect es útil para ver el array completo"
   ]
  },
  {
   "cell_type": "markdown",
   "id": "832e6ae5-ee02-4869-88d1-5a22d7a6aac5",
   "metadata": {},
   "source": [
    "## Ciclos / Bucles\n",
    "\n",
    "Ruby tiene varias formas de iterar, siendo `.each` la más idiomática y popular para colecciones."
   ]
  },
  {
   "cell_type": "code",
   "execution_count": null,
   "id": "b1d929c7-fc68-4de1-9600-78767b2bf15a",
   "metadata": {},
   "outputs": [],
   "source": [
    "mi_array = [\"manzana\", \"banana\", \"cereza\"]\n",
    "\n",
    "# Bucle .each (el más común)\n",
    "puts \"--- Bucle .each ---\"\n",
    "mi_array.each do |fruta|\n",
    "  puts fruta\n",
    "end\n",
    "\n",
    "# Bucle for (menos común en Ruby moderno)\n",
    "puts \"\\n--- Bucle for ---\"\n",
    "for i in 0..2 # Rango inclusivo\n",
    "  puts mi_array[i]\n",
    "end\n",
    "\n",
    "# Bucle while\n",
    "puts \"\\n--- Bucle while ---\"\n",
    "contador = 0\n",
    "while contador < mi_array.length\n",
    "  puts mi_array[contador]\n",
    "  contador += 1\n",
    "end"
   ]
  },
  {
   "cell_type": "markdown",
   "id": "2877e616-5656-4c56-aba0-4f5a6067d4cc",
   "metadata": {},
   "source": [
    "## Funciones (Métodos)\n",
    "\n",
    "En Ruby, todo es un objeto, y las funciones se llaman \"métodos\". Se definen con `def` y se terminan con `end`."
   ]
  },
  {
   "cell_type": "code",
   "execution_count": null,
   "id": "140cbed9-65e2-495b-9368-b6da3fb6eb5a",
   "metadata": {},
   "outputs": [],
   "source": [
    "def saludar(nombre)\n",
    "  # La última expresión evaluada es el retorno implícito\n",
    "  \"Hola, #{nombre}!\" # #{...} es la interpolación de strings\n",
    "end\n",
    "\n",
    "# No se necesitan paréntesis si no hay ambigüedad\n",
    "mensaje = saludar \"Ana\"\n",
    "puts mensaje"
   ]
  },
  {
   "cell_type": "markdown",
   "id": "94b91675-9790-4d91-a7da-6a60d8a6d25f",
   "metadata": {},
   "source": [
    "## Objetos y Clases\n",
    "\n",
    "Ruby es un lenguaje puramente orientado a objetos."
   ]
  },
  {
   "cell_type": "code",
   "execution_count": null,
   "id": "3d4568ab-e25c-4000-85e0-4f1602050079",
   "metadata": {},
   "outputs": [],
   "source": [
    "class Persona\n",
    "  # attr_accessor crea los getters y setters automáticamente\n",
    "  attr_accessor :nombre\n",
    "\n",
    "  # El constructor se llama 'initialize'\n",
    "  def initialize(nombre)\n",
    "    # Las variables de instancia usan @\n",
    "    @nombre = nombre\n",
    "  end\n",
    "\n",
    "  # Método de instancia\n",
    "  def describir\n",
    "    \"Soy una persona y mi nombre es #{@nombre}\"\n",
    "  end\n",
    "end\n",
    "\n",
    "# Crear una instancia (un objeto)\n",
    "persona1 = Persona.new(\"Luis\")\n",
    "\n",
    "# Usar los métodos\n",
    "puts persona1.nombre # Acceder al atributo\n",
    "persona1.nombre = \"Carlos\" # Cambiar el atributo\n",
    "puts persona1.describir"
   ]
  },
  {
   "cell_type": "markdown",
   "id": "b2976305-d0e5-4349-991a-11170da27b81",
   "metadata": {},
   "source": [
    "# 2. C# (C-Sharp)\n",
    "\n",
    "C# es un lenguaje moderno, orientado a objetos y de tipado estático (fuerte). Fue desarrollado por Microsoft y corre sobre la plataforma .NET. La sintaxis es similar a C++ y Java."
   ]
  },
  {
   "cell_type": "markdown",
   "id": "8bde5f8e-bbbc-49a9-888e-c5cb1d22d77f",
   "metadata": {},
   "source": [
    "## Variables y Tipos de Datos\n",
    "\n",
    "Se debe declarar el tipo de cada variable antes de usarla. Se usa `PascalCase` para nombres de clases/métodos y `camelCase` para variables locales."
   ]
  },
  {
   "cell_type": "code",
   "execution_count": null,
   "id": "deac545f-b054-456a-93da-70e8d1e4644b",
   "metadata": {},
   "outputs": [],
   "source": [
    "// Los comentarios son con '//'\n",
    "// En C#, necesitas el punto y coma ';' al final de cada sentencia.\n",
    "\n",
    "string miVariableString = \"Hola, mundo!\";\n",
    "int miNumeroEntero = 42;\n",
    "double miNumeroFlotante = 3.14; // 'float' también existe (3.14f)\n",
    "bool esVerdadero = true;\n",
    "string noEsNada = null; // null es la referencia nula\n",
    "\n",
    "// Para imprimir (requiere System)\n",
    "Console.WriteLine(miVariableString);\n",
    "Console.WriteLine(miNumeroEntero);"
   ]
  },
  {
   "cell_type": "markdown",
   "id": "929f40c5-b292-4020-a768-ce7e1d060500",
   "metadata": {},
   "source": [
    "## Listas (Arrays y Listas)\n",
    "\n",
    "C# distingue entre **Arrays** (tamaño fijo) y **Listas** (dinámicas, más comunes y flexibles). Las Listas requieren `using System.Collections.Generic;`."
   ]
  },
  {
   "cell_type": "code",
   "execution_count": null,
   "id": "b7f14ac3-3006-4b70-ad3b-bee141514fbd",
   "metadata": {},
   "outputs": [],
   "source": [
    "// Importar la librería para Listas\n",
    "using System.Collections.Generic;\n",
    "\n",
    "// --- Array (Tamaño fijo) ---\n",
    "// No pueden mezclar tipos\n",
    "string[] miArray = new string[3];\n",
    "miArray[0] = \"uno\";\n",
    "miArray[1] = \"dos\";\n",
    "// miArray[3] = \"cuatro\"; // Esto daría un error (fuera de límites)\n",
    "\n",
    "// --- Lista (Tamaño dinámico) ---\n",
    "List<string> miLista = new List<string>();\n",
    "\n",
    "// Añadir elementos\n",
    "miLista.Add(\"Elemento A\");\n",
    "miLista.Add(\"Elemento B\");\n",
    "\n",
    "// Acceder a un elemento\n",
    "Console.WriteLine(miLista[0]); // Imprime \"Elemento A\""
   ]
  },
  {
   "cell_type": "markdown",
   "id": "df91423f-d3d3-4e2a-9d4b-340757071ff9",
   "metadata": {},
   "source": [
    "## Ciclos / Bucles\n",
    "\n",
    "La sintaxis es heredada de C. Se usan llaves `{}` para definir los bloques de código."
   ]
  },
  {
   "cell_type": "code",
   "execution_count": null,
   "id": "24f32e1c-0a3a-4ad1-b9d9-462981fe6c05",
   "metadata": {},
   "outputs": [],
   "source": [
    "using System.Collections.Generic;\n",
    "List<string> miLista = new List<string> { \"manzana\", \"banana\", \"cereza\" };\n",
    "\n",
    "// Bucle foreach (el más común para colecciones)\n",
    "Console.WriteLine(\"--- Bucle foreach ---\");\n",
    "foreach (string fruta in miLista)\n",
    "{\n",
    "    Console.WriteLine(fruta);\n",
    "}\n",
    "\n",
    "// Bucle for (clásico)\n",
    "Console.WriteLine(\"\\n--- Bucle for ---\");\n",
    "for (int i = 0; i < miLista.Count; i++) // .Count es el tamaño de la Lista\n",
    "{\n",
    "    Console.WriteLine(miLista[i]);\n",
    "}\n",
    "\n",
    "// Bucle while\n",
    "Console.WriteLine(\"\\n--- Bucle while ---\");\n",
    "int contador = 0;\n",
    "while (contador < miLista.Count)\n",
    "{\n",
    "    Console.WriteLine(miLista[contador]);\n",
    "    contador++; // C# usa ++ para incrementar\n",
    "}"
   ]
  },
  {
   "cell_type": "markdown",
   "id": "3c26351a-4119-4ef5-9e08-abbdd51ec60b",
   "metadata": {},
   "source": [
    "## Funciones (Métodos)\n",
    "\n",
    "En C#, las funciones se llaman \"Métodos\". Deben declarar un tipo de retorno (o `void` si no retornan nada) y los tipos de sus parámetros."
   ]
  },
  {
   "cell_type": "code",
   "execution_count": null,
   "id": "7df1cdf0-4298-4fcc-958a-583766c10486",
   "metadata": {},
   "outputs": [],
   "source": [
    "// En una aplicación real, este método estaría dentro de una clase.\n",
    "// En un notebook .NET Interactive, puede definirse así.\n",
    "\n",
    "public string Saludar(string nombre)\n",
    "{\n",
    "    // Se usa $ para la interpolación de strings (similar a Ruby)\n",
    "    return $\"Hola, {nombre}!\";\n",
    "}\n",
    "\n",
    "// Llamar al método\n",
    "string mensaje = Saludar(\"Ana\");\n",
    "Console.WriteLine(mensaje);"
   ]
  },
  {
   "cell_type": "markdown",
   "id": "cc97732b-d32f-4273-a19e-e4f343fd5d83",
   "metadata": {},
   "source": [
    "## Objetos y Clases\n",
    "\n",
    "La programación en C# está fuertemente centrada en Clases y Objetos."
   ]
  },
  {
   "cell_type": "code",
   "execution_count": null,
   "id": "02b1c5ac-9105-4a7e-98a0-2c8297580284",
   "metadata": {},
   "outputs": [],
   "source": [
    "public class Persona\n",
    "{\n",
    "    // 'Propiedad' (combina campo, getter y setter)\n",
    "    public string Nombre { get; set; }\n",
    "\n",
    "    // Constructor (mismo nombre que la clase)\n",
    "    public Persona(string nombre)\n",
    "    {\n",
    "        // 'this' se usa para referirse a la instancia actual\n",
    "        this.Nombre = nombre;\n",
    "    }\n",
    "\n",
    "    // Método de instancia\n",
    "    public string Describir()\n",
    "    {\n",
    "        return $\"Soy una persona y mi nombre es {this.Nombre}\";\n",
    "    }\n",
    "}\n",
    "\n",
    "// Crear una instancia (un objeto)\n",
    "// Se usa la palabra clave 'new'\n",
    "Persona persona1 = new Persona(\"Luis\");\n",
    "\n",
    "// Usar los métodos y propiedades\n",
    "Console.WriteLine(persona1.Nombre); // Acceder a la propiedad\n",
    "persona1.Nombre = \"Carlos\"; // Cambiar la propiedad\n",
    "Console.WriteLine(persona1.Describir());"
   ]
  },
  {
   "cell_type": "markdown",
   "id": "2ade5f41-7866-4588-9bba-b47a5643d91b",
   "metadata": {},
   "source": [
    "# 3. PHP\n",
    "\n",
    "PHP es un lenguaje de scripting del lado del servidor, muy popular para el desarrollo web. Es de tipado dinámico (aunque las versiones modernas permiten tipado estático opcional)."
   ]
  },
  {
   "cell_type": "markdown",
   "id": "b4ca97a3-f8a4-4617-bf0f-e3f521621a0c",
   "metadata": {},
   "source": [
    "## Variables y Tipos de Datos\n",
    "\n",
    "Todas las variables en PHP deben comenzar con el símbolo `$`. Es de tipado dinámico."
   ]
  },
  {
   "cell_type": "code",
   "execution_count": null,
   "id": "9bfc4a69-5c67-4838-bf08-900360801f42",
   "metadata": {},
   "outputs": [],
   "source": [
    "// Los comentarios son con '//' o '#'\n",
    "// Las sentencias terminan en punto y coma ';'\n",
    "\n",
    "$miVariableString = \"Hola, mundo!\";\n",
    "$miNumeroEntero = 42;\n",
    "$miNumeroFlotante = 3.14;\n",
    "$esVerdadero = true;\n",
    "$noEsNada = NULL; // null es el valor nulo\n",
    "\n",
    "// Para imprimir se usa 'echo' o 'print'\n",
    "echo $miVariableString;\n",
    "echo \"\\n\"; // Salto de línea\n",
    "echo $miNumeroEntero;"
   ]
  },
  {
   "cell_type": "markdown",
   "id": "3db58ee7-899a-48d4-a470-8267f46f7e53",
   "metadata": {},
   "source": [
    "## Listas (Arrays)\n",
    "\n",
    "Los \"Arrays\" en PHP son extremadamente versátiles. Pueden ser listas indexadas (numéricamente) o \"arrays asociativos\" (mapas clave-valor)."
   ]
  },
  {
   "cell_type": "code",
   "execution_count": null,
   "id": "4a04dc43-e9bd-4fbb-93a3-6b2c32d7df36",
   "metadata": {},
   "outputs": [],
   "source": [
    "// --- Array indexado ---\n",
    "$miArray = [1, \"dos\", 3.0, true];\n",
    "// Sintaxis antigua: $miArray = array(1, \"dos\", 3.0, true);\n",
    "\n",
    "// Acceder a un elemento\n",
    "echo $miArray[1]; // Imprime \"dos\"\n",
    "echo \"\\n\";\n",
    "\n",
    "// Añadir un elemento\n",
    "$miArray[] = \"nuevo elemento\";\n",
    "\n",
    "// --- Array Asociativo (Mapa) ---\n",
    "$persona = [\n",
    "    \"nombre\" => \"Ana\",\n",
    "    \"edad\" => 25\n",
    "];\n",
    "\n",
    "echo $persona[\"nombre\"]; // Imprime \"Ana\"\n",
    "\n",
    "// var_dump es útil para ver la estructura completa\n",
    "var_dump($miArray);\n",
    "var_dump($persona);"
   ]
  },
  {
   "cell_type": "markdown",
   "id": "49d71841-b266-4503-ac9b-df9fb0e38cbb",
   "metadata": {},
   "source": [
    "## Ciclos / Bucles\n",
    "\n",
    "La sintaxis es similar a C# (heredada de C). `foreach` es muy útil, especialmente para arrays asociativos."
   ]
  },
  {
   "cell_type": "code",
   "execution_count": null,
   "id": "7a7a8964-d533-45c5-8b72-7dafad29eccb",
   "metadata": {},
   "outputs": [],
   "source": [
    "$miArray = [\"manzana\", \"banana\", \"cereza\"];\n",
    "\n",
    "// Bucle foreach (el más común para arrays)\n",
    "echo \"--- Bucle foreach ---\\n\";\n",
    "foreach ($miArray as $fruta) {\n",
    "    echo $fruta . \"\\n\"; // '.' es el operador de concatenación\n",
    "}\n",
    "\n",
    "// Bucle for (clásico)\n",
    "echo \"\\n--- Bucle for ---\\n\";\n",
    "// count() obtiene el tamaño del array\n",
    "for ($i = 0; $i < count($miArray); $i++) {\n",
    "    echo $miArray[$i] . \"\\n\";\n",
    "}\n",
    "\n",
    "// Bucle while\n",
    "echo \"\\n--- Bucle while ---\\n\";\n",
    "$contador = 0;\n",
    "while ($contador < count($miArray)) {\n",
    "    echo $miArray[$contador] . \"\\n\";\n",
    "    $contador++; // PHP también usa ++\n",
    "}"
   ]
  },
  {
   "cell_type": "markdown",
   "id": "fd84de71-7862-402b-a6b1-df8e87d0b641",
   "metadata": {},
   "source": [
    "## Funciones\n",
    "\n",
    "Se definen con la palabra clave `function`."
   ]
  },
  {
   "cell_type": "code",
   "execution_count": null,
   "id": "10c98570-da85-4aaf-bf11-5df13d67147c",
   "metadata": {},
   "outputs": [],
   "source": [
    "function saludar($nombre)\n",
    "{\n",
    "    // Se usa la interpolación con comillas dobles\n",
    "    return \"Hola, $nombre!\";\n",
    "}\n",
    "\n",
    "// Llamar a la función\n",
    "$mensaje = saludar(\"Ana\");\n",
    "echo $mensaje;"
   ]
  },
  {
   "cell_type": "markdown",
   "id": "e0dc5de0-00b1-435c-9fd4-ee248d9570b8",
   "metadata": {},
   "source": [
    "## Objetos y Clases\n",
    "\n",
    "PHP tiene un soporte completo para la programación orientada a objetos."
   ]
  },
  {
   "cell_type": "code",
   "execution_count": null,
   "id": "49c1e621-699f-4f6e-9a88-3281a424f2b4",
   "metadata": {},
   "outputs": [],
   "source": [
    "class Persona\n",
    "{\n",
    "    // Declarar la propiedad (atributo)\n",
    "    public $nombre;\n",
    "\n",
    "    // El constructor se llama '__construct'\n",
    "    public function __construct($nombre)\n",
    "    {\n",
    "        // '$this' se usa para referirse a la instancia\n",
    "        // La variable de instancia NO lleva '$' ($this->nombre)\n",
    "        $this->nombre = $nombre;\n",
    "    }\n",
    "\n",
    "    // Método de instancia\n",
    "    public function describir()\n",
    "    {\n",
    "        return \"Soy una persona y mi nombre es {$this->nombre}\";\n",
    "    }\n",
    "}\n",
    "\n",
    "// Crear una instancia (un objeto)\n",
    "// Se usa la palabra clave 'new'\n",
    "$persona1 = new Persona(\"Luis\");\n",
    "\n",
    "// Usar los métodos y propiedades\n",
    "// Se usa '->' para acceder a métodos y propiedades\n",
    "echo $persona1->nombre; // Acceder\n",
    "echo \"\\n\";\n",
    "$persona1->nombre = \"Carlos\"; // Cambiar\n",
    "echo $persona1->describir();"
   ]
  }
 ],
 "metadata": {
  "kernelspec": {
   "display_name": "",
   "name": ""
  },
  "language_info": {
   "name": ""
  }
 },
 "nbformat": 4,
 "nbformat_minor": 5
}
